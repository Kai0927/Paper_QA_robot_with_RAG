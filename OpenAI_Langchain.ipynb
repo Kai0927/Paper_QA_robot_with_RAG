{
 "cells": [
  {
   "cell_type": "code",
   "execution_count": 1,
   "metadata": {},
   "outputs": [],
   "source": [
    "import os\n",
    "\n",
    "from dotenv import load_dotenv, find_dotenv\n",
    "_ = load_dotenv(find_dotenv()) # read local .env file"
   ]
  },
  {
   "cell_type": "code",
   "execution_count": null,
   "metadata": {},
   "outputs": [],
   "source": [
    "# pip install openai==0.28.0\n",
    "# pip install pypdf\n",
    "# pip install docarray==0.32.1\n",
    "# pip install tiktoken\n",
    "# pip install pydantic==1.10.13  "
   ]
  },
  {
   "cell_type": "markdown",
   "metadata": {},
   "source": [
    "# Import module"
   ]
  },
  {
   "cell_type": "code",
   "execution_count": 2,
   "metadata": {},
   "outputs": [],
   "source": [
    "from langchain.chains import RetrievalQA\n",
    "from langchain.chat_models import ChatOpenAI\n",
    "from langchain.document_loaders import PyPDFLoader\n",
    "from langchain.vectorstores import DocArrayInMemorySearch\n",
    "from langchain.embeddings import OpenAIEmbeddings\n",
    "from langchain.indexes import VectorstoreIndexCreator"
   ]
  },
  {
   "cell_type": "markdown",
   "metadata": {},
   "source": [
    "# use OpenAI API "
   ]
  },
  {
   "cell_type": "code",
   "execution_count": 3,
   "metadata": {},
   "outputs": [
    {
     "name": "stderr",
     "output_type": "stream",
     "text": [
      "c:\\Users\\K1\\anaconda3\\envs\\mylangchainproject\\lib\\site-packages\\langchain_core\\_api\\deprecation.py:115: LangChainDeprecationWarning: The class `ChatOpenAI` was deprecated in LangChain 0.1.0 and will be removed in 0.2.0. Use langchain_openai.ChatOpenAI instead.\n",
      "  warn_deprecated(\n",
      "c:\\Users\\K1\\anaconda3\\envs\\mylangchainproject\\lib\\site-packages\\langchain_core\\_api\\deprecation.py:115: LangChainDeprecationWarning: The class `OpenAIEmbeddings` was deprecated in LangChain 0.1.0 and will be removed in 0.2.0. Use langchain_openai.OpenAIEmbeddings instead.\n",
      "  warn_deprecated(\n"
     ]
    }
   ],
   "source": [
    "llm_model = \"gpt-3.5-turbo\"\n",
    "llm = ChatOpenAI(temperature = 0.0, model=llm_model)\n",
    "embeddings = OpenAIEmbeddings()\n",
    "loader = PyPDFLoader(\"./acp-23-10423-2023.pdf\")"
   ]
  },
  {
   "cell_type": "markdown",
   "metadata": {},
   "source": [
    "# Embedding"
   ]
  },
  {
   "cell_type": "code",
   "execution_count": 4,
   "metadata": {},
   "outputs": [],
   "source": [
    "index = VectorstoreIndexCreator(\n",
    "    vectorstore_cls=DocArrayInMemorySearch,\n",
    "    embedding=embeddings,\n",
    ").from_loaders([loader])"
   ]
  },
  {
   "cell_type": "markdown",
   "metadata": {},
   "source": [
    "# RetrievalQA with similarity search"
   ]
  },
  {
   "cell_type": "code",
   "execution_count": 5,
   "metadata": {},
   "outputs": [],
   "source": [
    "qa = RetrievalQA.from_chain_type(\n",
    "    llm=llm, \n",
    "    chain_type=\"stuff\", \n",
    "    retriever=index.vectorstore.as_retriever(search_kwargs={\"k\": 2}),  # top 2 scores\n",
    "    verbose=True,\n",
    "    return_source_documents=True,\n",
    "    chain_type_kwargs = {\n",
    "        \"document_separator\": \"<<<<>>>>>\"\n",
    "    }\n",
    ")"
   ]
  },
  {
   "cell_type": "code",
   "execution_count": 6,
   "metadata": {},
   "outputs": [],
   "source": [
    "import textwrap\n",
    "def wrap_text_preserve_newlines(text, width=110):\n",
    "    # Split the input text into lines based on newline characters\n",
    "    lines = text.split('\\n')\n",
    "    # Wrap each line individually\n",
    "    wrapped_lines = [textwrap.fill(line, width=width) for line in lines]\n",
    "    # Join the wrapped lines back together using newline characters\n",
    "    wrapped_text = '\\n'.join(wrapped_lines)\n",
    "    return wrapped_text\n",
    "\n",
    "def process_llm_response(llm_response):\n",
    "    print(wrap_text_preserve_newlines(llm_response['result']))\n",
    "    print('\\n\\nSources:')\n",
    "    for source in llm_response[\"source_documents\"]:\n",
    "        print(source.metadata['source'] + f\": page{source.metadata['page']}\")"
   ]
  },
  {
   "cell_type": "code",
   "execution_count": 8,
   "metadata": {},
   "outputs": [
    {
     "name": "stderr",
     "output_type": "stream",
     "text": [
      "c:\\Users\\K1\\anaconda3\\envs\\mylangchainproject\\lib\\site-packages\\langchain_core\\_api\\deprecation.py:115: LangChainDeprecationWarning: The function `__call__` was deprecated in LangChain 0.1.0 and will be removed in 0.2.0. Use invoke instead.\n",
      "  warn_deprecated(\n"
     ]
    },
    {
     "name": "stdout",
     "output_type": "stream",
     "text": [
      "\n",
      "\n",
      "\u001b[1m> Entering new RetrievalQA chain...\u001b[0m\n",
      "\n",
      "\u001b[1m> Finished chain.\u001b[0m\n"
     ]
    }
   ],
   "source": [
    "query = \"Please list the effects of hygroscopic cloud seeding.\"\n",
    "llm_response = qa(query)"
   ]
  },
  {
   "cell_type": "code",
   "execution_count": 11,
   "metadata": {},
   "outputs": [
    {
     "name": "stdout",
     "output_type": "stream",
     "text": [
      "The effects of hygroscopic cloud seeding can include:\n",
      "\n",
      "1. Increased cloud activation: Hygroscopic cloud seeding can enhance the activation of cloud droplets, leading\n",
      "to the formation of more cloud particles.\n",
      "\n",
      "2. Increased cloud condensation: Cloud condensation is the process by which water vapor condenses onto cloud\n",
      "particles. Hygroscopic cloud seeding can promote this process, resulting in the growth of cloud droplets.\n",
      "\n",
      "3. Enhanced precipitation: Hygroscopic cloud seeding can increase the formation of raindrops by promoting the\n",
      "growth of cloud droplets. This can lead to enhanced precipitation in the seeded area.\n",
      "\n",
      "4. Altered microphysical processes: Hygroscopic cloud seeding can affect various microphysical processes\n",
      "within clouds, such as evaporation and coalescence of cloud droplets.\n",
      "\n",
      "5. Localized effects: The effects of hygroscopic cloud seeding are typically localized to the seeded area.\n",
      "This means that the increase in precipitation is concentrated in the targeted region.\n",
      "\n",
      "It's important to note that the specific effects of hygroscopic cloud seeding can vary depending on various\n",
      "factors, including atmospheric conditions, seeding techniques, and the type of cloud being seeded.\n",
      "\n",
      "\n",
      "Sources:\n",
      "./acp-23-10423-2023.pdf: page14\n",
      "./acp-23-10423-2023.pdf: page8\n"
     ]
    }
   ],
   "source": [
    "process_llm_response(llm_response)"
   ]
  },
  {
   "cell_type": "markdown",
   "metadata": {},
   "source": [
    "# If you want to debug"
   ]
  },
  {
   "cell_type": "code",
   "execution_count": 10,
   "metadata": {},
   "outputs": [
    {
     "name": "stdout",
     "output_type": "stream",
     "text": [
      "\u001b[32;1m\u001b[1;3m[chain/start]\u001b[0m \u001b[1m[1:chain:RetrievalQA] Entering Chain run with input:\n",
      "\u001b[0m{\n",
      "  \"query\": \"Please list the effects of hygroscopic cloud seeding.\"\n",
      "}\n",
      "\u001b[32;1m\u001b[1;3m[chain/start]\u001b[0m \u001b[1m[1:chain:RetrievalQA > 3:chain:StuffDocumentsChain] Entering Chain run with input:\n",
      "\u001b[0m[inputs]\n",
      "\u001b[32;1m\u001b[1;3m[chain/start]\u001b[0m \u001b[1m[1:chain:RetrievalQA > 3:chain:StuffDocumentsChain > 4:chain:LLMChain] Entering Chain run with input:\n",
      "\u001b[0m{\n",
      "  \"question\": \"Please list the effects of hygroscopic cloud seeding.\",\n",
      "  \"context\": \"for Effective Hygroscopic Cloud Seeding, J. Appl. Meteorol.\\nClim., 49, 1548–1562, https://doi.org/10.1175/2010jamc2307.1,\\n2010.\\nRosenfeld, D., Sherwood, S., Wood, R., and Donner, L.: Climate ef-\\nfects of aerosol-cloud interactions, Science, 343, 379–380, 2014.\\nSegal, Y ., Khain, A., Pinsky, M., and Rosenfeld, D.: Effects of hy-\\ngroscopic seeding on raindrop formation as seen from simula-\\ntions using a 2000-bin spectral cloud parcel model, Atmos. Res.,\\n71, 3–34, 2004.\\nSeto, J., Tomine, K., Wakimizu, K., and Nishiyama, K.: Artiﬁ-\\ncial cloud seeding using liquid carbon dioxide: Comparisons of\\nexperimental data and numerical analyses, J. Appl. Meteorol.\\nClim., 50, 1417–1431, 2011.\\nhttps://doi.org/10.5194/acp-23-10423-2023 Atmos. Chem. Phys., 23, 10423–10438, 2023<<<<>>>>>K.-I. Lin et al.: Evaluation of hygroscopic cloud seeding by a hybrid microphysics scheme 10431\\nFigure 10. (a)The 1 h rain rate variation after cloud seeding. (b)Time series (UTC) of averaged rain rate of the rainy grids in the Shihmen\\nregion for seed runs and the control run. The red rectangle in (a)represents the Shihmen region, and the rivers shown on the map are the\\nDahan River and Danshui River.\\nfected (approximate ﬂuctuation of 0.5 %) by cloud seeding.\\nAccording to Tonttila et al. (2021), the ideal simulation of\\nhygroscopic cloud seeding indicates that water vapour com-\\npetition does not cause great seeding effects on cloud super-\\nsaturation. In this study, when the supersaturation ratio is rel-\\natively high in the environment, similar results can be found\\nby the complex simulation.\\n4.3 Seeding effects on microphysical processes\\nFive microphysical parameters are considered, namely cloud\\nactivation (Pcact), cloud condensation ( Pcond), evaporation\"\n",
      "}\n",
      "\u001b[32;1m\u001b[1;3m[llm/start]\u001b[0m \u001b[1m[1:chain:RetrievalQA > 3:chain:StuffDocumentsChain > 4:chain:LLMChain > 5:llm:ChatOpenAI] Entering LLM run with input:\n",
      "\u001b[0m{\n",
      "  \"prompts\": [\n",
      "    \"System: Use the following pieces of context to answer the user's question. \\nIf you don't know the answer, just say that you don't know, don't try to make up an answer.\\n----------------\\nfor Effective Hygroscopic Cloud Seeding, J. Appl. Meteorol.\\nClim., 49, 1548–1562, https://doi.org/10.1175/2010jamc2307.1,\\n2010.\\nRosenfeld, D., Sherwood, S., Wood, R., and Donner, L.: Climate ef-\\nfects of aerosol-cloud interactions, Science, 343, 379–380, 2014.\\nSegal, Y ., Khain, A., Pinsky, M., and Rosenfeld, D.: Effects of hy-\\ngroscopic seeding on raindrop formation as seen from simula-\\ntions using a 2000-bin spectral cloud parcel model, Atmos. Res.,\\n71, 3–34, 2004.\\nSeto, J., Tomine, K., Wakimizu, K., and Nishiyama, K.: Artiﬁ-\\ncial cloud seeding using liquid carbon dioxide: Comparisons of\\nexperimental data and numerical analyses, J. Appl. Meteorol.\\nClim., 50, 1417–1431, 2011.\\nhttps://doi.org/10.5194/acp-23-10423-2023 Atmos. Chem. Phys., 23, 10423–10438, 2023<<<<>>>>>K.-I. Lin et al.: Evaluation of hygroscopic cloud seeding by a hybrid microphysics scheme 10431\\nFigure 10. (a)The 1 h rain rate variation after cloud seeding. (b)Time series (UTC) of averaged rain rate of the rainy grids in the Shihmen\\nregion for seed runs and the control run. The red rectangle in (a)represents the Shihmen region, and the rivers shown on the map are the\\nDahan River and Danshui River.\\nfected (approximate ﬂuctuation of 0.5 %) by cloud seeding.\\nAccording to Tonttila et al. (2021), the ideal simulation of\\nhygroscopic cloud seeding indicates that water vapour com-\\npetition does not cause great seeding effects on cloud super-\\nsaturation. In this study, when the supersaturation ratio is rel-\\natively high in the environment, similar results can be found\\nby the complex simulation.\\n4.3 Seeding effects on microphysical processes\\nFive microphysical parameters are considered, namely cloud\\nactivation (Pcact), cloud condensation ( Pcond), evaporation\\nHuman: Please list the effects of hygroscopic cloud seeding.\"\n",
      "  ]\n",
      "}\n",
      "\u001b[36;1m\u001b[1;3m[llm/end]\u001b[0m \u001b[1m[1:chain:RetrievalQA > 3:chain:StuffDocumentsChain > 4:chain:LLMChain > 5:llm:ChatOpenAI] [9.83s] Exiting LLM run with output:\n",
      "\u001b[0m{\n",
      "  \"generations\": [\n",
      "    [\n",
      "      {\n",
      "        \"text\": \"The effects of hygroscopic cloud seeding can include:\\n\\n1. Increased cloud activation: Hygroscopic cloud seeding can enhance the activation of cloud droplets, leading to the formation of more cloud particles.\\n\\n2. Increased cloud condensation: Cloud condensation is the process by which water vapor condenses onto cloud particles. Hygroscopic cloud seeding can promote this process, resulting in the growth of cloud droplets.\\n\\n3. Enhanced precipitation: Hygroscopic cloud seeding can increase the formation of raindrops by promoting the growth of cloud droplets. This can lead to enhanced precipitation in the seeded area.\\n\\n4. Altered microphysical processes: Hygroscopic cloud seeding can affect various microphysical processes within clouds, such as evaporation and coalescence of cloud droplets.\\n\\n5. Localized effects: The effects of hygroscopic cloud seeding are typically localized to the seeded area. This means that the increase in precipitation is concentrated in the targeted region.\\n\\nIt's important to note that the specific effects of hygroscopic cloud seeding can vary depending on various factors, including atmospheric conditions, seeding techniques, and the type of cloud being seeded.\",\n",
      "        \"generation_info\": {\n",
      "          \"finish_reason\": \"stop\",\n",
      "          \"logprobs\": null\n",
      "        },\n",
      "        \"type\": \"ChatGeneration\",\n",
      "        \"message\": {\n",
      "          \"lc\": 1,\n",
      "          \"type\": \"constructor\",\n",
      "          \"id\": [\n",
      "            \"langchain\",\n",
      "            \"schema\",\n",
      "            \"messages\",\n",
      "            \"AIMessage\"\n",
      "          ],\n",
      "          \"kwargs\": {\n",
      "            \"content\": \"The effects of hygroscopic cloud seeding can include:\\n\\n1. Increased cloud activation: Hygroscopic cloud seeding can enhance the activation of cloud droplets, leading to the formation of more cloud particles.\\n\\n2. Increased cloud condensation: Cloud condensation is the process by which water vapor condenses onto cloud particles. Hygroscopic cloud seeding can promote this process, resulting in the growth of cloud droplets.\\n\\n3. Enhanced precipitation: Hygroscopic cloud seeding can increase the formation of raindrops by promoting the growth of cloud droplets. This can lead to enhanced precipitation in the seeded area.\\n\\n4. Altered microphysical processes: Hygroscopic cloud seeding can affect various microphysical processes within clouds, such as evaporation and coalescence of cloud droplets.\\n\\n5. Localized effects: The effects of hygroscopic cloud seeding are typically localized to the seeded area. This means that the increase in precipitation is concentrated in the targeted region.\\n\\nIt's important to note that the specific effects of hygroscopic cloud seeding can vary depending on various factors, including atmospheric conditions, seeding techniques, and the type of cloud being seeded.\",\n",
      "            \"additional_kwargs\": {}\n",
      "          }\n",
      "        }\n",
      "      }\n",
      "    ]\n",
      "  ],\n",
      "  \"llm_output\": {\n",
      "    \"token_usage\": {\n",
      "      \"prompt_tokens\": 578,\n",
      "      \"completion_tokens\": 227,\n",
      "      \"total_tokens\": 805\n",
      "    },\n",
      "    \"model_name\": \"gpt-3.5-turbo\",\n",
      "    \"system_fingerprint\": null\n",
      "  },\n",
      "  \"run\": null\n",
      "}\n",
      "\u001b[36;1m\u001b[1;3m[chain/end]\u001b[0m \u001b[1m[1:chain:RetrievalQA > 3:chain:StuffDocumentsChain > 4:chain:LLMChain] [9.83s] Exiting Chain run with output:\n",
      "\u001b[0m{\n",
      "  \"text\": \"The effects of hygroscopic cloud seeding can include:\\n\\n1. Increased cloud activation: Hygroscopic cloud seeding can enhance the activation of cloud droplets, leading to the formation of more cloud particles.\\n\\n2. Increased cloud condensation: Cloud condensation is the process by which water vapor condenses onto cloud particles. Hygroscopic cloud seeding can promote this process, resulting in the growth of cloud droplets.\\n\\n3. Enhanced precipitation: Hygroscopic cloud seeding can increase the formation of raindrops by promoting the growth of cloud droplets. This can lead to enhanced precipitation in the seeded area.\\n\\n4. Altered microphysical processes: Hygroscopic cloud seeding can affect various microphysical processes within clouds, such as evaporation and coalescence of cloud droplets.\\n\\n5. Localized effects: The effects of hygroscopic cloud seeding are typically localized to the seeded area. This means that the increase in precipitation is concentrated in the targeted region.\\n\\nIt's important to note that the specific effects of hygroscopic cloud seeding can vary depending on various factors, including atmospheric conditions, seeding techniques, and the type of cloud being seeded.\"\n",
      "}\n",
      "\u001b[36;1m\u001b[1;3m[chain/end]\u001b[0m \u001b[1m[1:chain:RetrievalQA > 3:chain:StuffDocumentsChain] [9.83s] Exiting Chain run with output:\n",
      "\u001b[0m{\n",
      "  \"output_text\": \"The effects of hygroscopic cloud seeding can include:\\n\\n1. Increased cloud activation: Hygroscopic cloud seeding can enhance the activation of cloud droplets, leading to the formation of more cloud particles.\\n\\n2. Increased cloud condensation: Cloud condensation is the process by which water vapor condenses onto cloud particles. Hygroscopic cloud seeding can promote this process, resulting in the growth of cloud droplets.\\n\\n3. Enhanced precipitation: Hygroscopic cloud seeding can increase the formation of raindrops by promoting the growth of cloud droplets. This can lead to enhanced precipitation in the seeded area.\\n\\n4. Altered microphysical processes: Hygroscopic cloud seeding can affect various microphysical processes within clouds, such as evaporation and coalescence of cloud droplets.\\n\\n5. Localized effects: The effects of hygroscopic cloud seeding are typically localized to the seeded area. This means that the increase in precipitation is concentrated in the targeted region.\\n\\nIt's important to note that the specific effects of hygroscopic cloud seeding can vary depending on various factors, including atmospheric conditions, seeding techniques, and the type of cloud being seeded.\"\n",
      "}\n",
      "\u001b[36;1m\u001b[1;3m[chain/end]\u001b[0m \u001b[1m[1:chain:RetrievalQA] [11.10s] Exiting Chain run with output:\n",
      "\u001b[0m[outputs]\n"
     ]
    },
    {
     "data": {
      "text/plain": [
       "{'query': 'Please list the effects of hygroscopic cloud seeding.',\n",
       " 'result': \"The effects of hygroscopic cloud seeding can include:\\n\\n1. Increased cloud activation: Hygroscopic cloud seeding can enhance the activation of cloud droplets, leading to the formation of more cloud particles.\\n\\n2. Increased cloud condensation: Cloud condensation is the process by which water vapor condenses onto cloud particles. Hygroscopic cloud seeding can promote this process, resulting in the growth of cloud droplets.\\n\\n3. Enhanced precipitation: Hygroscopic cloud seeding can increase the formation of raindrops by promoting the growth of cloud droplets. This can lead to enhanced precipitation in the seeded area.\\n\\n4. Altered microphysical processes: Hygroscopic cloud seeding can affect various microphysical processes within clouds, such as evaporation and coalescence of cloud droplets.\\n\\n5. Localized effects: The effects of hygroscopic cloud seeding are typically localized to the seeded area. This means that the increase in precipitation is concentrated in the targeted region.\\n\\nIt's important to note that the specific effects of hygroscopic cloud seeding can vary depending on various factors, including atmospheric conditions, seeding techniques, and the type of cloud being seeded.\",\n",
       " 'source_documents': [Document(page_content='for Effective Hygroscopic Cloud Seeding, J. Appl. Meteorol.\\nClim., 49, 1548–1562, https://doi.org/10.1175/2010jamc2307.1,\\n2010.\\nRosenfeld, D., Sherwood, S., Wood, R., and Donner, L.: Climate ef-\\nfects of aerosol-cloud interactions, Science, 343, 379–380, 2014.\\nSegal, Y ., Khain, A., Pinsky, M., and Rosenfeld, D.: Effects of hy-\\ngroscopic seeding on raindrop formation as seen from simula-\\ntions using a 2000-bin spectral cloud parcel model, Atmos. Res.,\\n71, 3–34, 2004.\\nSeto, J., Tomine, K., Wakimizu, K., and Nishiyama, K.: Artiﬁ-\\ncial cloud seeding using liquid carbon dioxide: Comparisons of\\nexperimental data and numerical analyses, J. Appl. Meteorol.\\nClim., 50, 1417–1431, 2011.\\nhttps://doi.org/10.5194/acp-23-10423-2023 Atmos. Chem. Phys., 23, 10423–10438, 2023', metadata={'source': './acp-23-10423-2023.pdf', 'page': 14}),\n",
       "  Document(page_content='K.-I. Lin et al.: Evaluation of hygroscopic cloud seeding by a hybrid microphysics scheme 10431\\nFigure 10. (a)The 1 h rain rate variation after cloud seeding. (b)Time series (UTC) of averaged rain rate of the rainy grids in the Shihmen\\nregion for seed runs and the control run. The red rectangle in (a)represents the Shihmen region, and the rivers shown on the map are the\\nDahan River and Danshui River.\\nfected (approximate ﬂuctuation of 0.5 %) by cloud seeding.\\nAccording to Tonttila et al. (2021), the ideal simulation of\\nhygroscopic cloud seeding indicates that water vapour com-\\npetition does not cause great seeding effects on cloud super-\\nsaturation. In this study, when the supersaturation ratio is rel-\\natively high in the environment, similar results can be found\\nby the complex simulation.\\n4.3 Seeding effects on microphysical processes\\nFive microphysical parameters are considered, namely cloud\\nactivation (Pcact), cloud condensation ( Pcond), evaporation', metadata={'source': './acp-23-10423-2023.pdf', 'page': 8})]}"
      ]
     },
     "execution_count": 10,
     "metadata": {},
     "output_type": "execute_result"
    }
   ],
   "source": [
    "import langchain\n",
    "langchain.debug = True\n",
    "qa(query)"
   ]
  }
 ],
 "metadata": {
  "kernelspec": {
   "display_name": "mylangchainproject",
   "language": "python",
   "name": "python3"
  },
  "language_info": {
   "codemirror_mode": {
    "name": "ipython",
    "version": 3
   },
   "file_extension": ".py",
   "mimetype": "text/x-python",
   "name": "python",
   "nbconvert_exporter": "python",
   "pygments_lexer": "ipython3",
   "version": "3.10.13"
  }
 },
 "nbformat": 4,
 "nbformat_minor": 2
}
